{
  "nbformat": 4,
  "nbformat_minor": 0,
  "metadata": {
    "colab": {
      "name": "test-colab-mongodb.ipynb",
      "provenance": [],
      "authorship_tag": "ABX9TyP9lznPlAMPFaJQ8OzwDqQS",
      "include_colab_link": true
    },
    "kernelspec": {
      "name": "python3",
      "display_name": "Python 3"
    }
  },
  "cells": [
    {
      "cell_type": "markdown",
      "metadata": {
        "id": "view-in-github",
        "colab_type": "text"
      },
      "source": [
        "<a href=\"https://colab.research.google.com/github/vu-bigdata-2020/homework-2/blob/master/test_colab_mongodb.ipynb\" target=\"_parent\"><img src=\"https://colab.research.google.com/assets/colab-badge.svg\" alt=\"Open In Colab\"/></a>"
      ]
    },
    {
      "cell_type": "code",
      "metadata": {
        "id": "OWwtchHV2L0n",
        "colab_type": "code",
        "colab": {}
      },
      "source": [
        "#import packages\n",
        "import time\n",
        "from copy import deepcopy\n",
        "import json\n",
        "import pymongo\n",
        "import os\n",
        "import datetime\n",
        "import pandas"
      ],
      "execution_count": 0,
      "outputs": []
    },
    {
      "cell_type": "code",
      "metadata": {
        "id": "0wDs4NJq2fEu",
        "colab_type": "code",
        "colab": {
          "base_uri": "https://localhost:8080/",
          "height": 90
        },
        "outputId": "ed14bf7e-5923-4f08-b084-66e4d41e6e0f"
      },
      "source": [
        "#get the username and and password information - You need to run it one time at start\n",
        "from getpass import getpass\n",
        "\n",
        "USER = getpass('Enter Uder Name here: ')\n",
        "PASS = getpass('Enter Password here: ')\n",
        "HOST = getpass('Enter HOST here: ')\n",
        "PORT = getpass('Enter PORT here: ')"
      ],
      "execution_count": 3,
      "outputs": [
        {
          "output_type": "stream",
          "text": [
            "Enter Uder Name here: ··········\n",
            "Enter Password here: ··········\n",
            "Enter HOST here: ··········\n",
            "Enter PORT here: ··········\n"
          ],
          "name": "stdout"
        }
      ]
    },
    {
      "cell_type": "code",
      "metadata": {
        "id": "dPzDnNkG2z9B",
        "colab_type": "code",
        "colab": {}
      },
      "source": [
        "#set up mongo connection\n",
        "mongo_url = \"mongodb://{}:{}@{}:{}/?authSource={}\".format(USER,\n",
        "                                                         PASS,\n",
        "                                                         HOST,\n",
        "                                                         PORT,\n",
        "                                                         \"lahman\")\n",
        "\n",
        "client = pymongo.MongoClient(mongo_url)"
      ],
      "execution_count": 0,
      "outputs": []
    },
    {
      "cell_type": "code",
      "metadata": {
        "id": "vWKVOjW123Z9",
        "colab_type": "code",
        "colab": {
          "base_uri": "https://localhost:8080/",
          "height": 74
        },
        "outputId": "83df1ec0-139e-4f68-f901-0113f7d4def8"
      },
      "source": [
        "#get access to a specific database. this will work if you imported the data properly as instructed\n",
        "db = client['lahman']\n",
        "#now print all collection names\n",
        "print(\"collection names: {}\".format(db.list_collection_names()))\n",
        "reading = db['Batting'].find_one()\n",
        "#print one batting documents\n",
        "print(reading)\n",
        "\n"
      ],
      "execution_count": 11,
      "outputs": [
        {
          "output_type": "stream",
          "text": [
            "collection names: ['BattingPost', 'Pitching', 'Teams', 'FieldingPost', 'SchoolsPlayers', 'ManagersHalf', 'Appearances', 'Fielding', 'SeriesPost', 'Salaries', 'TeamsHalf', 'PitchingPost', 'AwardsPlayers', 'TeamsFranchises', 'AwardsShareManagers', 'FieldingOF', 'Schools', 'AllstarFull', 'Batting', 'Managers', 'AwardsSharePlayers', 'HallOfFame', 'Master', 'AwardsManagers']\n",
            "{'_id': ObjectId('5e3c7f96229b764193e50a80'), 'playerID': 'aardsda01', 'yearID': 2004, 'stint': 1, 'teamID': 'SFN', 'lgID': 'NL', 'G': 11, 'G_batting': 11, 'AB': 0, 'R': 0, 'H': 0, '2B': 0, '3B': 0, 'HR': 0, 'RBI': 0, 'SB': 0, 'CS': 0, 'BB': 0, 'SO': 0, 'IBB': 0, 'HBP': 0, 'SH': 0, 'SF': 0, 'GIDP': 0, 'G_old': 11}\n"
          ],
          "name": "stdout"
        }
      ]
    },
    {
      "cell_type": "code",
      "metadata": {
        "id": "eGuW-NsSXsOu",
        "colab_type": "code",
        "colab": {}
      },
      "source": [
        "#pretty print json and convert to pandas\n",
        "docs = pandas.DataFrame(columns=[])\n",
        "reading[\"_id\"] = str(reading[\"_id\"])\n",
        "series_obj = pandas.Series( reading, name=reading[\"_id\"])\n",
        "docs = docs.append( series_obj )\n",
        "json_object = docs.to_json() # return JSON data\n",
        "print (\"\\nJSON data:\", json_export)\n"
      ],
      "execution_count": 0,
      "outputs": []
    },
    {
      "cell_type": "code",
      "metadata": {
        "id": "PSSl6lbvY5_R",
        "colab_type": "code",
        "colab": {
          "base_uri": "https://localhost:8080/",
          "height": 435
        },
        "outputId": "c2ae765d-149b-47f7-c785-f0991f01947b"
      },
      "source": [
        "#working with a cursor that returns multiple documents\n",
        "aaronha01batting = db['Batting'].find({ \"playerID\": {\"$eq\": \"aaronha01\"}})\n",
        "years = [x['yearID'] for x in aaronha01batting]\n",
        "years"
      ],
      "execution_count": 28,
      "outputs": [
        {
          "output_type": "execute_result",
          "data": {
            "text/plain": [
              "[1954,\n",
              " 1955,\n",
              " 1956,\n",
              " 1957,\n",
              " 1958,\n",
              " 1959,\n",
              " 1960,\n",
              " 1961,\n",
              " 1962,\n",
              " 1963,\n",
              " 1964,\n",
              " 1965,\n",
              " 1966,\n",
              " 1967,\n",
              " 1968,\n",
              " 1969,\n",
              " 1970,\n",
              " 1971,\n",
              " 1972,\n",
              " 1973,\n",
              " 1974,\n",
              " 1975,\n",
              " 1976]"
            ]
          },
          "metadata": {
            "tags": []
          },
          "execution_count": 28
        }
      ]
    }
  ]
}