{
  "nbformat": 4,
  "nbformat_minor": 0,
  "metadata": {
    "colab": {
      "name": "test-colab-mongodb.ipynb",
      "provenance": [],
      "authorship_tag": "ABX9TyNaySX+Y3Nb+2GaAXmeThos",
      "include_colab_link": true
    },
    "kernelspec": {
      "name": "python3",
      "display_name": "Python 3"
    }
  },
  "cells": [
    {
      "cell_type": "markdown",
      "metadata": {
        "id": "view-in-github",
        "colab_type": "text"
      },
      "source": [
        "<a href=\"https://colab.research.google.com/github/vu-bigdata-2020/homework-2/blob/master/test_colab_mongodb.ipynb\" target=\"_parent\"><img src=\"https://colab.research.google.com/assets/colab-badge.svg\" alt=\"Open In Colab\"/></a>"
      ]
    },
    {
      "cell_type": "code",
      "metadata": {
        "id": "OWwtchHV2L0n",
        "colab_type": "code",
        "colab": {}
      },
      "source": [
        "#import packages\n",
        "import time\n",
        "from copy import deepcopy\n",
        "import json\n",
        "import pymongo\n",
        "import os\n",
        "import datetime\n",
        "import pandas"
      ],
      "execution_count": 0,
      "outputs": []
    },
    {
      "cell_type": "code",
      "metadata": {
        "id": "0wDs4NJq2fEu",
        "colab_type": "code",
        "colab": {}
      },
      "source": [
        "#get the username and and password information - You need to run it one time at start.\n",
        "# it will prompt you and ask for input\n",
        "\n",
        "from getpass import getpass\n",
        "\n",
        "USER = getpass('Enter User Name here: ')\n",
        "PASS = getpass('Enter Password here: ')\n",
        "HOST = getpass('Enter HOST here (it should be the name of your AWS instace - you use it to connect to your instance) : ')\n",
        "PORT = getpass('Enter PORT here - unless you changed it, it is the default mongodb port -27017: ')"
      ],
      "execution_count": 0,
      "outputs": []
    },
    {
      "cell_type": "code",
      "metadata": {
        "id": "dPzDnNkG2z9B",
        "colab_type": "code",
        "colab": {}
      },
      "source": [
        "#set up mongo connection\n",
        "mongo_url = \"mongodb://{}:{}@{}:{}/?authSource={}\".format(USER,\n",
        "                                                         PASS,\n",
        "                                                         HOST,\n",
        "                                                         PORT,\n",
        "                                                         \"lahman\")\n",
        "\n",
        "client = pymongo.MongoClient(mongo_url)"
      ],
      "execution_count": 0,
      "outputs": []
    },
    {
      "cell_type": "code",
      "metadata": {
        "id": "vWKVOjW123Z9",
        "colab_type": "code",
        "colab": {}
      },
      "source": [
        "#get access to a specific database. this will work if you imported the data properly as instructed\n",
        "db = client['lahman']\n",
        "#now print all collection names\n",
        "print(\"collection names: {}\".format(db.list_collection_names()))\n",
        "reading = db['Batting'].find_one()\n",
        "#print one batting documents\n",
        "reading[\"_id\"] = str(reading[\"_id\"])\n",
        "print(reading)\n",
        "\n"
      ],
      "execution_count": 0,
      "outputs": []
    },
    {
      "cell_type": "code",
      "metadata": {
        "id": "eGuW-NsSXsOu",
        "colab_type": "code",
        "colab": {}
      },
      "source": [
        "#pretty print json and convert to pandas\n",
        "docs = pandas.DataFrame(columns=[])\n",
        "reading[\"_id\"] = str(reading[\"_id\"])\n",
        "series_obj = pandas.Series( reading, name=reading[\"_id\"])\n",
        "docs = docs.append( series_obj )\n",
        "json_object = docs.to_json() # return JSON data\n",
        "print(json_object)\n"
      ],
      "execution_count": 0,
      "outputs": []
    },
    {
      "cell_type": "code",
      "metadata": {
        "id": "PSSl6lbvY5_R",
        "colab_type": "code",
        "colab": {}
      },
      "source": [
        "#working with a cursor that returns multiple documents\n",
        "aaronha01batting = db['Batting'].find({ \"playerID\": {\"$eq\": \"aaronha01\"}})\n",
        "years = [x['yearID'] for x in aaronha01batting]\n",
        "years"
      ],
      "execution_count": 0,
      "outputs": []
    }
  ]
}